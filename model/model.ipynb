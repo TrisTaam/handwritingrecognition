{
 "cells": [
  {
   "cell_type": "code",
   "id": "initial_id",
   "metadata": {
    "collapsed": true,
    "ExecuteTime": {
     "end_time": "2024-05-28T16:04:14.134617Z",
     "start_time": "2024-05-28T16:04:10.982964Z"
    }
   },
   "source": [
    "import random\n",
    "\n",
    "import cntk as C\n",
    "import numpy as np\n",
    "from sklearn.datasets import fetch_openml\n",
    "from sklearn.preprocessing import OneHotEncoder"
   ],
   "outputs": [],
   "execution_count": 1
  },
  {
   "metadata": {
    "ExecuteTime": {
     "end_time": "2024-05-28T16:04:14.150762Z",
     "start_time": "2024-05-28T16:04:14.134617Z"
    }
   },
   "cell_type": "code",
   "source": [
    "num_samples = 60000\n",
    "batch_size = 64\n",
    "learning_rate = 0.1"
   ],
   "id": "8b2b7ab4de81ade3",
   "outputs": [],
   "execution_count": 2
  },
  {
   "metadata": {
    "ExecuteTime": {
     "end_time": "2024-05-28T16:04:14.166802Z",
     "start_time": "2024-05-28T16:04:14.152768Z"
    }
   },
   "cell_type": "code",
   "source": [
    "class BatchReader(object):\n",
    "    def __init__(self, data, label):\n",
    "        self.data = data\n",
    "        self.label = label\n",
    "        self.num_sample = data.shape[0]\n",
    "\n",
    "    def next_batch(self, batch_size):\n",
    "        index = random.sample(range(self.num_sample), batch_size)\n",
    "        return self.data[index, :].astype(float), self.label[index, :].astype(float)"
   ],
   "id": "734b036fbf53dd00",
   "outputs": [],
   "execution_count": 3
  },
  {
   "metadata": {
    "ExecuteTime": {
     "end_time": "2024-05-28T16:05:03.156309Z",
     "start_time": "2024-05-28T16:04:14.166802Z"
    }
   },
   "cell_type": "code",
   "source": "mnist = fetch_openml('mnist_784')",
   "id": "e94aac0a71e321db",
   "outputs": [],
   "execution_count": 4
  },
  {
   "metadata": {
    "ExecuteTime": {
     "end_time": "2024-05-28T16:05:03.172299Z",
     "start_time": "2024-05-28T16:05:03.156309Z"
    }
   },
   "cell_type": "code",
   "source": [
    "data = mnist.data.to_numpy()\n",
    "labels = mnist.target.to_numpy()"
   ],
   "id": "6c2ed630d1cbacd8",
   "outputs": [],
   "execution_count": 5
  },
  {
   "metadata": {
    "ExecuteTime": {
     "end_time": "2024-05-28T16:05:03.187885Z",
     "start_time": "2024-05-28T16:05:03.172806Z"
    }
   },
   "cell_type": "code",
   "source": [
    "train_data = data[:num_samples, :]\n",
    "train_label = labels[:num_samples]\n",
    "test_data = data[num_samples:, :]\n",
    "test_label = labels[num_samples:]"
   ],
   "id": "bc11ebc0019e1889",
   "outputs": [],
   "execution_count": 6
  },
  {
   "metadata": {
    "ExecuteTime": {
     "end_time": "2024-05-28T16:05:03.219480Z",
     "start_time": "2024-05-28T16:05:03.187885Z"
    }
   },
   "cell_type": "code",
   "source": [
    "enc = OneHotEncoder()\n",
    "enc.fit(train_label[:, None])\n",
    "train_encoded = enc.transform(train_label[:, None]).toarray()"
   ],
   "id": "d1a20158e929f532",
   "outputs": [],
   "execution_count": 7
  },
  {
   "metadata": {
    "ExecuteTime": {
     "end_time": "2024-05-28T16:05:03.239172Z",
     "start_time": "2024-05-28T16:05:03.223523Z"
    }
   },
   "cell_type": "code",
   "source": "train_reader = BatchReader(train_data, train_encoded)",
   "id": "ef8098a10d843c11",
   "outputs": [],
   "execution_count": 8
  },
  {
   "metadata": {
    "ExecuteTime": {
     "end_time": "2024-05-28T16:05:03.254960Z",
     "start_time": "2024-05-28T16:05:03.239172Z"
    }
   },
   "cell_type": "code",
   "source": [
    "enc = OneHotEncoder()\n",
    "enc.fit(test_label[:, None])\n",
    "test_encoded = enc.transform(test_label[:, None]).toarray()\n",
    "test_reader = BatchReader(test_data, test_encoded)"
   ],
   "id": "acbb43c0ab46bd7f",
   "outputs": [],
   "execution_count": 9
  },
  {
   "metadata": {
    "ExecuteTime": {
     "end_time": "2024-05-28T16:05:03.270594Z",
     "start_time": "2024-05-28T16:05:03.254960Z"
    }
   },
   "cell_type": "code",
   "source": [
    "dimensions = 784\n",
    "classes = 10\n",
    "hidden_layers = 3\n",
    "hidden_layers_neurons = 400"
   ],
   "id": "882bbc0b598aebab",
   "outputs": [],
   "execution_count": 10
  },
  {
   "metadata": {
    "ExecuteTime": {
     "end_time": "2024-05-28T16:05:03.286675Z",
     "start_time": "2024-05-28T16:05:03.273104Z"
    }
   },
   "cell_type": "code",
   "source": [
    "input = C.input_variable(dimensions)\n",
    "label = C.input_variable(classes)"
   ],
   "id": "dc0c3e593f6a0984",
   "outputs": [],
   "execution_count": 11
  },
  {
   "metadata": {
    "ExecuteTime": {
     "end_time": "2024-05-28T16:05:03.302987Z",
     "start_time": "2024-05-28T16:05:03.286675Z"
    }
   },
   "cell_type": "code",
   "source": [
    "def create_model(features):\n",
    "    with C.layers.default_options(init=C.layers.glorot_uniform(), activation=C.ops.relu):\n",
    "        hidden_out = features\n",
    "        for _ in range(hidden_layers):\n",
    "            hidden_out = C.layers.Dense(hidden_layers_neurons)(hidden_out)\n",
    "        network_output = C.layers.Dense(classes, activation=None)(hidden_out)\n",
    "        return network_output"
   ],
   "id": "3ba34e9595cab524",
   "outputs": [],
   "execution_count": 12
  },
  {
   "metadata": {
    "ExecuteTime": {
     "end_time": "2024-05-28T16:05:03.590395Z",
     "start_time": "2024-05-28T16:05:03.302987Z"
    }
   },
   "cell_type": "code",
   "source": "model = create_model(input / 255.0)",
   "id": "e7cc6dd68646d2e5",
   "outputs": [],
   "execution_count": 13
  },
  {
   "metadata": {
    "ExecuteTime": {
     "end_time": "2024-05-28T16:05:03.606493Z",
     "start_time": "2024-05-28T16:05:03.592907Z"
    }
   },
   "cell_type": "code",
   "source": [
    "loss = C.cross_entropy_with_softmax(model, label)\n",
    "label_error = C.classification_error(model, label)"
   ],
   "id": "b5c9cc44b631a0b5",
   "outputs": [],
   "execution_count": 14
  },
  {
   "metadata": {
    "ExecuteTime": {
     "end_time": "2024-05-28T16:05:03.654622Z",
     "start_time": "2024-05-28T16:05:03.606493Z"
    }
   },
   "cell_type": "code",
   "source": [
    "lrs = C.learning_rate_schedule(learning_rate, C.UnitType.minibatch)\n",
    "learner = C.sgd(model.parameters, lrs)\n",
    "trainer = C.Trainer(model, (loss, label_error), [learner])"
   ],
   "id": "1b4726c048637875",
   "outputs": [],
   "execution_count": 15
  },
  {
   "metadata": {
    "ExecuteTime": {
     "end_time": "2024-05-28T16:05:50.172062Z",
     "start_time": "2024-05-28T16:05:03.654622Z"
    }
   },
   "cell_type": "code",
   "source": [
    "epochs = 10\n",
    "num_iters = (num_samples * epochs) / batch_size\n",
    "for i in range(int(num_iters)):\n",
    "    batch_data, batch_label = train_reader.next_batch(batch_size=batch_size)\n",
    "    arguments = {\n",
    "        input: batch_data,\n",
    "        label: batch_label\n",
    "    }\n",
    "    trainer.train_minibatch(arguments=arguments)\n",
    "    if i % 1000 == 0:\n",
    "        training_loss = trainer.previous_minibatch_loss_average\n",
    "        evaluation_error = trainer.previous_minibatch_evaluation_average\n",
    "        print(\"{0}: , Loss: {1:.3f}, Error: {2:.2f}%\".format(i, training_loss, evaluation_error * 100))"
   ],
   "id": "d7abcbd6626f593b",
   "outputs": [
    {
     "name": "stderr",
     "output_type": "stream",
     "text": [
      "C:\\Users\\yadar\\Anaconda3\\envs\\handwritingrecognition\\lib\\site-packages\\cntk\\core.py:361: UserWarning: your data is of type \"float64\", but your input variable (uid \"Input3\") expects \"<class 'numpy.float32'>\". Please convert your data beforehand to speed up training.\n",
      "  (sample.dtype, var.uid, str(var.dtype)))\n",
      "C:\\Users\\yadar\\Anaconda3\\envs\\handwritingrecognition\\lib\\site-packages\\cntk\\core.py:361: UserWarning: your data is of type \"float64\", but your input variable (uid \"Input4\") expects \"<class 'numpy.float32'>\". Please convert your data beforehand to speed up training.\n",
      "  (sample.dtype, var.uid, str(var.dtype)))\n"
     ]
    },
    {
     "name": "stdout",
     "output_type": "stream",
     "text": [
      "0: , Loss: 2.328, Error: 95.31%\n",
      "1000: , Loss: 0.155, Error: 6.25%\n",
      "2000: , Loss: 0.097, Error: 3.12%\n",
      "3000: , Loss: 0.040, Error: 0.00%\n",
      "4000: , Loss: 0.073, Error: 1.56%\n",
      "5000: , Loss: 0.008, Error: 0.00%\n",
      "6000: , Loss: 0.008, Error: 0.00%\n",
      "7000: , Loss: 0.012, Error: 0.00%\n",
      "8000: , Loss: 0.003, Error: 0.00%\n",
      "9000: , Loss: 0.020, Error: 1.56%\n"
     ]
    }
   ],
   "execution_count": 16
  },
  {
   "metadata": {
    "ExecuteTime": {
     "end_time": "2024-05-28T16:05:50.376947Z",
     "start_time": "2024-05-28T16:05:50.173182Z"
    }
   },
   "cell_type": "code",
   "source": [
    "predicted_label_probs = model.eval({input: test_data})\n",
    "predictions = np.argmax(predicted_label_probs, axis=1)\n",
    "actual = np.argmax(test_encoded, axis=1)\n",
    "correct = np.sum(predictions == actual)\n",
    "print(correct / len(actual))"
   ],
   "id": "5370464204bdb363",
   "outputs": [
    {
     "name": "stdout",
     "output_type": "stream",
     "text": [
      "0.9827\n"
     ]
    },
    {
     "name": "stderr",
     "output_type": "stream",
     "text": [
      "C:\\Users\\yadar\\Anaconda3\\envs\\handwritingrecognition\\lib\\site-packages\\cntk\\core.py:82: RuntimeWarning: data is not C contiguous; rearrange your data/computation to avoid costly data conversions\n",
      "  RuntimeWarning)\n"
     ]
    }
   ],
   "execution_count": 17
  },
  {
   "metadata": {
    "ExecuteTime": {
     "end_time": "2024-05-28T16:05:50.408979Z",
     "start_time": "2024-05-28T16:05:50.376947Z"
    }
   },
   "cell_type": "code",
   "source": "model.save(\"cntk.model\")",
   "id": "bd9246d5255ca627",
   "outputs": [],
   "execution_count": 18
  }
 ],
 "metadata": {
  "kernelspec": {
   "display_name": "Python 3",
   "language": "python",
   "name": "python3"
  },
  "language_info": {
   "codemirror_mode": {
    "name": "ipython",
    "version": 2
   },
   "file_extension": ".py",
   "mimetype": "text/x-python",
   "name": "python",
   "nbconvert_exporter": "python",
   "pygments_lexer": "ipython2",
   "version": "2.7.6"
  }
 },
 "nbformat": 4,
 "nbformat_minor": 5
}
